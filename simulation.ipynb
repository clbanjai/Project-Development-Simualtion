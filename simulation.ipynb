{
 "cells": [
  {
   "cell_type": "markdown",
   "metadata": {},
   "source": [
    "\"\"\"\n",
    "Created on Sun Sept  29 11:38:07 2024\n",
    "\n",
    "@author: MIT Wind\n",
    "\n",
    "Wake loss simulation, farm layout optimization, hydrogen exploration\n",
    "\n",
    "Assumptions:\n",
    "    No blockage effect considered. We are using Squared Sum Superposition for the wake models\n",
    "    Any wake model considered uses the default parameters with which it was validated\n",
    "\"\"\""
   ]
  },
  {
   "cell_type": "code",
   "execution_count": 2,
   "metadata": {},
   "outputs": [],
   "source": [
    "import numpy as np\n",
    "import pandas as pd \n",
    "from Site import Kratos, VWT45, wt_x, wt_y\n",
    "from py_wake.deficit_models.gaussian import BastankhahGaussian,BastankhahGaussianDeficit\n",
    "from py_wake.superposition_models import SquaredSum\n",
    "from py_wake.wind_farm_models import PropagateDownwind\n",
    "from py_wake.turbulence_models import CrespoHernandez, STF2017TurbulenceModel\n",
    "import os\n",
    "from py_wake.utils.plotting import setup_plot\n",
    "import matplotlib.pyplot as plt \n",
    "from matplotlib import cm\n",
    "from matplotlib.colors import ListedColormap, LinearSegmentedColormap\n",
    "from py_wake.flow_map import HorizontalGrid\n",
    "from py_wake.flow_map import XYGrid\n",
    "from py_wake import XZGrid\n",
    "from py_wake.examples.data import example_data_path\n",
    "import utm\n",
    "\n",
    "from topfarm.cost_models.py_wake_wrapper import PyWakeAEPCostModelComponent\n",
    "from topfarm.cost_models.cost_model_wrappers import CostModelComponent\n",
    "from topfarm import TopFarmProblem\n",
    "from topfarm.easy_drivers import EasyScipyOptimizeDriver\n",
    "from topfarm.plotting import NoPlot, XYPlotComp\n",
    "from topfarm.constraint_components.spacing import SpacingConstraint\n",
    "from topfarm.constraint_components.boundary import CircleBoundaryConstraint, XYBoundaryConstraint\n",
    "from topfarm.constraint_components.constraint_aggregation import ConstraintAggregation\n",
    "from topfarm.constraint_components.constraint_aggregation import DistanceConstraintAggregation\n",
    "\n",
    "# Plot wind rose from Global wind Atlas\n",
    "# plt.figure()\n",
    "# Kratos.plot_wd_distribution(n_wd=12)"
   ]
  },
  {
   "cell_type": "code",
   "execution_count": null,
   "metadata": {},
   "outputs": [],
   "source": [
    "# Optimization around the island\n",
    "n_wts = 1 # Number of turbines in the farm\n",
    "\n",
    "def kratos_constraints(diam, boundary, n_wt=n_wts):\n",
    "    \"\"\"Constraints for Kratos\n",
    "\n",
    "    n_wt : int, optional. Number of wind turbines in farm (default is 4)\n",
    "    boundary: list of tuples representing vertices position\n",
    "\n",
    "    Returns constr : list of topfarm constraints\n",
    "        Currently only have Spacing constraint and boundary constraint \n",
    "    \"\"\"\n",
    "    spac_constr = SpacingConstraint(2 * diam) # Minimum constraints\n",
    "    bound_constr = XYBoundaryConstraint(boundary, 'convex_hull')\n",
    "    return [spac_constr, bound_constr]\n",
    "\n",
    "def bound_vertices(corners):\n",
    "    \"\"\" Define array of vertices for the farm\n",
    "    Pass a list of latitude and longitude tuples\n",
    "    \"\"\"\n",
    "    return np.array(corners)"
   ]
  },
  {
   "cell_type": "code",
   "execution_count": null,
   "metadata": {},
   "outputs": [],
   "source": [
    "# Max output after optimization\n",
    "site_corners = [\" Pass in coordinates of corners as tuples\"]\n",
    "site = Kratos(wt_x, wt_y)\n",
    "wfm = PropagateDownwind(site, VWT45, wake_deficitModel=BastankhahGaussianDeficit(use_effective_ws=False),\n",
    "                                        superpositionModel=SquaredSum(), deflectionModel=None) # Wind farm model\n",
    "objective = PyWakeAEPCostModelComponent(wfm, n_wts) # Wrapper for the objective function (AEP including wakes)\n",
    "\n",
    "tf = TopFarmProblem(\n",
    "        design_vars= {'x':wt_x, 'y': wt_y},\n",
    "        driver=EasyScipyOptimizeDriver(),\n",
    "        cost_comp= objective,\n",
    "        constraints= kratos_constraints(90,bound_vertices(site_corners)),\n",
    "        plot_comp=XYPlotComp(plot_initial=False),\n",
    "        ) # TopFarm problem definition\n",
    "    \n",
    "cost, op_state, _= tf.optimize()"
   ]
  },
  {
   "cell_type": "code",
   "execution_count": null,
   "metadata": {},
   "outputs": [],
   "source": [
    "Kratos.ds"
   ]
  },
  {
   "cell_type": "markdown",
   "metadata": {},
   "source": [
    "Wake loss calculation for new layout"
   ]
  },
  {
   "cell_type": "code",
   "execution_count": null,
   "metadata": {},
   "outputs": [],
   "source": [
    "# Layout optimization visualization\n",
    "sim_res = wfm(wt_x, wt_y) # intial simulation result\n",
    "wt_x_op, wt_y_op = op_state['x'], op_state['y'] # Optimized layout\n",
    "\n",
    "# Remember to pass in the 1 hour average wind speed data that we downloaded from the CSV\n",
    "sim_res_op = wfm(wt_x_op, wt_y_op) # Simulate result for optimize turbine placement\n",
    "\n",
    "# Time series wind data \n",
    "frame_8760 = pd.read_csv('speed_data.csv')\n",
    "dir_120 = np.array(frame_8760['Dir_120']) # Change\n",
    "ws_120 = np.array(frame_8760['wind speed at 100m (m/s)'])\n",
    "ti_120 = np.array(frame_8760['TI_120']) # Change\n",
    "\n",
    "time_stamp = np.arange(len(dir_120))/7.5/24\n",
    "\n",
    "# Optimum wind farm simulation with 8760 data\n",
    "sim_res_time = wfm(wt_x_op, wt_y_op, # wind turbine positions\n",
    "                            wd=dir_120, # Wind direction time series\n",
    "                            ws=ws_120, # Wind speed time series\n",
    "                            time=time_stamp, # time stamps\n",
    "                      )\n",
    "\n",
    "hourly_output = np.empty(0) # Hourly power output from the farm\n",
    "for ix in range(len(ws_120)):\n",
    "    hourly_output = np.append(hourly_output,sim_res.Power.sel(wt=0, wd=dir_120[ix], ws= ws_120[ix], method='nearest').data/1e6*4 )\n",
    "\n",
    "d = np.load(example_data_path + \"/time_series.npz\")\n",
    "n_days=366\n",
    "\n",
    "# plot time series generation \n",
    "axes = plt.subplots(3,1, sharex=True, figsize=(16,10))[1]\n",
    "\n",
    "for ax, (v,l) in zip(axes, [(dir_120, 'Wind direction [deg]'),(ws_120,'Wind speed [m/s]'),(hourly_output,'Hourly Output (MW)')]):\n",
    "    ax.plot(time_stamp, v)\n",
    "    ax.set_ylabel(l, fontsize= 18)\n",
    "_ = ax.set_xlabel('Time [day]', fontsize= 18)"
   ]
  },
  {
   "cell_type": "code",
   "execution_count": null,
   "metadata": {},
   "outputs": [],
   "source": [
    "# Wake loss from Nrel data\n",
    "aep_with_wake_loss_time = sim_res_time.aep().sum().data\n",
    "aep_witout_wake_loss_time = sim_res_time.aep(with_wake_loss=False).sum().data\n",
    "print('total wake loss:',((aep_witout_wake_loss_time-aep_with_wake_loss_time) / aep_witout_wake_loss_time)*100, '%')\n",
    "print('Capacity factor:', (aep_with_wake_loss_time/105.12)*100, '%')\n",
    "aep_with_wake_loss_time"
   ]
  },
  {
   "cell_type": "markdown",
   "metadata": {},
   "source": [
    "Plot wake map"
   ]
  },
  {
   "cell_type": "code",
   "execution_count": null,
   "metadata": {},
   "outputs": [],
   "source": [
    "wdir = 300 # Wind direction to plot flow map\n",
    "wsp = 8 # Wind speed to plot flow map\n",
    "\n",
    "plt.figure()\n",
    "flow_map = sim_res_op.flow_map(grid=None,\n",
    "                            wd=wdir,\n",
    "                            ws = wsp).plot_wake_map()\n",
    "plt.scatter(wt_x, wt_y, label='Initial Position', color = 'black', marker = 'o', s= 15)\n",
    "plt.xlabel('x [m]')\n",
    "plt.ylabel('y [m]')\n",
    "plt.title('Layout and wake for'+ f' {wdir} deg and {wsp} m/s')\n",
    "plt.legend()"
   ]
  }
 ],
 "metadata": {
  "kernelspec": {
   "display_name": "Python 3",
   "language": "python",
   "name": "python3"
  },
  "language_info": {
   "codemirror_mode": {
    "name": "ipython",
    "version": 3
   },
   "file_extension": ".py",
   "mimetype": "text/x-python",
   "name": "python",
   "nbconvert_exporter": "python",
   "pygments_lexer": "ipython3",
   "version": "3.12.1"
  }
 },
 "nbformat": 4,
 "nbformat_minor": 2
}
